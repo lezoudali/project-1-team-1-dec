{
 "cells": [
  {
   "cell_type": "code",
   "execution_count": 69,
   "metadata": {},
   "outputs": [],
   "source": [
    "import requests\n",
    "import os\n",
    "import pandas as pd"
   ]
  },
  {
   "cell_type": "code",
   "execution_count": 72,
   "metadata": {},
   "outputs": [],
   "source": [
    "class AccuWeatherApiClient:\n",
    "    \"\"\"\n",
    "    Client for getting data from AccuWeather API.\n",
    "    \"\"\"\n",
    "    def __init__(self, api_key: str):\n",
    "        self.base_url = \"https://dataservice.accuweather.com\"\n",
    "        if api_key is None:\n",
    "            raise Exception(\"API key cannot be set to None.\")\n",
    "        self.api_key = api_key\n",
    "        \n",
    "    def get_current_weather(\n",
    "        self, location_key: int\n",
    "    ) -> dict:\n",
    "        \"\"\"Extract location data from a city name using the location API\n",
    "        \n",
    "        Args: \n",
    "            city_key: city key in text to search for\n",
    "            \n",
    "        Returns:\n",
    "            A dict with the current weather metrics \n",
    "            \n",
    "        Raises:\n",
    "            Exception when it is not possible to extract data from the API.\n",
    "        \"\"\"\n",
    "        location_url = f\"{self.base_url}/currentconditions/v1/{location_key}\"\n",
    "        params = {\n",
    "            \"apikey\" : self.api_key,\n",
    "            \"language\" : \"en-us\",\n",
    "            \"details\" : \"true\",\n",
    "        }\n",
    "        response = requests.get(url=location_url, params=params)\n",
    "        if response.status_code == 200:\n",
    "            return response.json()[0]\n",
    "        else:\n",
    "            raise Exception(\n",
    "                f\"Failes to extract data from AccuWeather API. Status Code: {response.status_code}. Response: {response.text}\"\n",
    "            )\n",
    "    def get_location(self, location_name: str) -> str:\n",
    "        \"\"\"Extract location data from a city name using the location API\n",
    "        \n",
    "        Args: \n",
    "            q: city text to search for.\n",
    "            \n",
    "        Returns:\n",
    "            A string with the key of the city\n",
    "            \n",
    "        Raises:\n",
    "            Exception when it is not possible to extract data from the API.\n",
    "        \"\"\"\n",
    "        location_url = f\"{self.base_url}/locations/v1/cities/search\"\n",
    "        params = {\n",
    "            \"q\": location_name,\n",
    "            \"apikey\" : self.api_key,\n",
    "            \"language\" : \"en-us\",\n",
    "            \"details\" : \"false\",\n",
    "        }\n",
    "        response = requests.get(url=location_url, params=params)\n",
    "        if response.status_code == 200 and response.json()[0].get(\"Key\") is not None:\n",
    "            return response.json()[0].get(\"Key\")\n",
    "        else:\n",
    "            raise Exception(\n",
    "                f\"Failes to extract data from AccuWeather API. Status Code: {response.status_code}. Response: {response.text}\"\n",
    "            )"
   ]
  },
  {
   "cell_type": "code",
   "execution_count": 101,
   "metadata": {},
   "outputs": [],
   "source": [
    "def extract_current_weather(\n",
    "    accuweather_client: AccuWeatherApiClient,\n",
    "    location_name: str\n",
    ") -> pd.DataFrame:\n",
    "    \"\"\"\n",
    "    Extract forecast data from AccuWeather API.\n",
    "\n",
    "    The forecast data is extracted from a desired location based on the location_key.\n",
    "    \n",
    "    The forecast_days argument define the number of forecast days returned. Possible\n",
    "    values are 1, 5, 10, and 15.\n",
    "    \"\"\"\n",
    "    location_key = accuweather_client.get_location(\n",
    "        city_name = location_name\n",
    "    )\n",
    "    \n",
    "    data = accuweather_client.get_current_weather(\n",
    "        location_key = location_key\n",
    "    )\n",
    "    data['location_name'] = location_name\n",
    "    data['location_key'] = location_key\n",
    "    return pd.json_normalize(data=data)"
   ]
  },
  {
   "cell_type": "code",
   "execution_count": 102,
   "metadata": {},
   "outputs": [
    {
     "data": {
      "text/plain": [
       "pandas.core.frame.DataFrame"
      ]
     },
     "execution_count": 102,
     "metadata": {},
     "output_type": "execute_result"
    }
   ],
   "source": [
    "accuweather_client = AccuWeatherApiClient(api_key=\"5Kzw2rB1gGZ5YJN0cGFgGjjYMaUz1PYP\")\n",
    "response = extract_current_weather(accuweather_client = accuweather_client, location_name = 'pucon')\n",
    "type(response)"
   ]
  },
  {
   "cell_type": "code",
   "execution_count": 98,
   "metadata": {},
   "outputs": [
    {
     "data": {
      "text/plain": [
       "0    pucon\n",
       "Name: city_name, dtype: object"
      ]
     },
     "execution_count": 98,
     "metadata": {},
     "output_type": "execute_result"
    }
   ],
   "source": [
    "response.city_name"
   ]
  },
  {
   "cell_type": "code",
   "execution_count": 46,
   "metadata": {},
   "outputs": [
    {
     "data": {
      "text/plain": [
       "'Mostly sunny'"
      ]
     },
     "execution_count": 46,
     "metadata": {},
     "output_type": "execute_result"
    }
   ],
   "source": [
    "response.get('WeatherText')"
   ]
  },
  {
   "cell_type": "code",
   "execution_count": 51,
   "metadata": {},
   "outputs": [
    {
     "data": {
      "text/plain": [
       "25.3"
      ]
     },
     "execution_count": 51,
     "metadata": {},
     "output_type": "execute_result"
    }
   ],
   "source": [
    "response.get('Temperature').get('Metric').get('Value')"
   ]
  },
  {
   "cell_type": "code",
   "execution_count": 53,
   "metadata": {},
   "outputs": [
    {
     "data": {
      "text/plain": [
       "30.3"
      ]
     },
     "execution_count": 53,
     "metadata": {},
     "output_type": "execute_result"
    }
   ],
   "source": [
    "response.get('RealFeelTemperature').get('Metric').get('Value')"
   ]
  },
  {
   "cell_type": "code",
   "execution_count": 56,
   "metadata": {},
   "outputs": [
    {
     "data": {
      "text/plain": [
       "'Very Warm'"
      ]
     },
     "execution_count": 56,
     "metadata": {},
     "output_type": "execute_result"
    }
   ],
   "source": [
    "response.get('RealFeelTemperature').get('Metric').get('Phrase')"
   ]
  },
  {
   "cell_type": "code",
   "execution_count": 61,
   "metadata": {},
   "outputs": [
    {
     "data": {
      "text/plain": [
       "9.4"
      ]
     },
     "execution_count": 61,
     "metadata": {},
     "output_type": "execute_result"
    }
   ],
   "source": [
    "response.get('Wind').get('Speed').get('Metric').get('Value')"
   ]
  },
  {
   "cell_type": "code",
   "execution_count": 65,
   "metadata": {},
   "outputs": [
    {
     "data": {
      "text/plain": [
       "'WNW'"
      ]
     },
     "execution_count": 65,
     "metadata": {},
     "output_type": "execute_result"
    }
   ],
   "source": [
    "response.get('Wind').get('Direction').get('Localized')"
   ]
  },
  {
   "cell_type": "code",
   "execution_count": 70,
   "metadata": {},
   "outputs": [],
   "source": []
  },
  {
   "cell_type": "code",
   "execution_count": 71,
   "metadata": {},
   "outputs": [
    {
     "ename": "AttributeError",
     "evalue": "'AccuWeatherApiClient' object has no attribute 'get_location'",
     "output_type": "error",
     "traceback": [
      "\u001b[0;31m---------------------------------------------------------------------------\u001b[0m",
      "\u001b[0;31mAttributeError\u001b[0m                            Traceback (most recent call last)",
      "Cell \u001b[0;32mIn[71], line 1\u001b[0m\n\u001b[0;32m----> 1\u001b[0m \u001b[43mextract_current_weather\u001b[49m\u001b[43m(\u001b[49m\u001b[43maccuweather_client\u001b[49m\u001b[43m \u001b[49m\u001b[38;5;241;43m=\u001b[39;49m\u001b[43m \u001b[49m\u001b[43maccuweather_client\u001b[49m\u001b[43m,\u001b[49m\u001b[43m \u001b[49m\u001b[43mcity_name\u001b[49m\u001b[43m \u001b[49m\u001b[38;5;241;43m=\u001b[39;49m\u001b[43m \u001b[49m\u001b[38;5;124;43m'\u001b[39;49m\u001b[38;5;124;43mpucon\u001b[39;49m\u001b[38;5;124;43m'\u001b[39;49m\u001b[43m)\u001b[49m\n",
      "Cell \u001b[0;32mIn[70], line 13\u001b[0m, in \u001b[0;36mextract_current_weather\u001b[0;34m(accuweather_client, city_name)\u001b[0m\n\u001b[1;32m      1\u001b[0m \u001b[38;5;28;01mdef\u001b[39;00m \u001b[38;5;21mextract_current_weather\u001b[39m(\n\u001b[1;32m      2\u001b[0m     accuweather_client: AccuWeatherApiClient,\n\u001b[1;32m      3\u001b[0m     city_name: \u001b[38;5;28mstr\u001b[39m\n\u001b[1;32m      4\u001b[0m ) \u001b[38;5;241m-\u001b[39m\u001b[38;5;241m>\u001b[39m pd\u001b[38;5;241m.\u001b[39mDataFrame:\n\u001b[1;32m      5\u001b[0m \u001b[38;5;250m    \u001b[39m\u001b[38;5;124;03m\"\"\"\u001b[39;00m\n\u001b[1;32m      6\u001b[0m \u001b[38;5;124;03m    Extract forecast data from AccuWeather API.\u001b[39;00m\n\u001b[1;32m      7\u001b[0m \n\u001b[0;32m   (...)\u001b[0m\n\u001b[1;32m     11\u001b[0m \u001b[38;5;124;03m    values are 1, 5, 10, and 15.\u001b[39;00m\n\u001b[1;32m     12\u001b[0m \u001b[38;5;124;03m    \"\"\"\u001b[39;00m\n\u001b[0;32m---> 13\u001b[0m     location_key \u001b[38;5;241m=\u001b[39m \u001b[43maccuweather_client\u001b[49m\u001b[38;5;241;43m.\u001b[39;49m\u001b[43mget_location\u001b[49m(\n\u001b[1;32m     14\u001b[0m         accuweather_client,\n\u001b[1;32m     15\u001b[0m         city_name \u001b[38;5;241m=\u001b[39m city_name\n\u001b[1;32m     16\u001b[0m     )\n\u001b[1;32m     18\u001b[0m     data \u001b[38;5;241m=\u001b[39m accuweather_client\u001b[38;5;241m.\u001b[39mget_forecast(\n\u001b[1;32m     19\u001b[0m         accuweather_client,\n\u001b[1;32m     20\u001b[0m         location_key\u001b[38;5;241m=\u001b[39mlocation_key\n\u001b[1;32m     21\u001b[0m     )\n\u001b[1;32m     22\u001b[0m     \u001b[38;5;28;01mreturn\u001b[39;00m pd\u001b[38;5;241m.\u001b[39mjson_normalize(data\u001b[38;5;241m=\u001b[39mdata)\n",
      "\u001b[0;31mAttributeError\u001b[0m: 'AccuWeatherApiClient' object has no attribute 'get_location'"
     ]
    }
   ],
   "source": []
  },
  {
   "cell_type": "code",
   "execution_count": null,
   "metadata": {},
   "outputs": [],
   "source": []
  }
 ],
 "metadata": {
  "kernelspec": {
   "display_name": "dec_proyect_1",
   "language": "python",
   "name": "python3"
  },
  "language_info": {
   "codemirror_mode": {
    "name": "ipython",
    "version": 3
   },
   "file_extension": ".py",
   "mimetype": "text/x-python",
   "name": "python",
   "nbconvert_exporter": "python",
   "pygments_lexer": "ipython3",
   "version": "3.12.1"
  }
 },
 "nbformat": 4,
 "nbformat_minor": 2
}
